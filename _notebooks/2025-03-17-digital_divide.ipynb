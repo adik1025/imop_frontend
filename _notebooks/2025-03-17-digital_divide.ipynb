{
 "cells": [
  {
   "cell_type": "raw",
   "metadata": {
    "vscode": {
     "languageId": "raw"
    }
   },
   "source": [
    "---\n",
    "layout: post\n",
    "title: Digital Divide\n",
    "description: A blog about the digital divide.\n",
    "permalink: /posts/digital-divide/\n",
    "comments: true\n",
    "---"
   ]
  },
  {
   "cell_type": "markdown",
   "metadata": {},
   "source": [
    "# Concepts\n",
    "\n",
    "Topic 1: \n",
    " - What is Digital Divide\n",
    "\n",
    "Topic 2: \n",
    " - Factors contributing to the Digital Divide \n",
    " - Economic disparities\n",
    " - Educational Disparities\n",
    " - geographical disparities\n",
    "\n",
    "Topic 3: \n",
    " - Digital divide in San Diego.\n",
    " - Efforts to Bridge the Divide\n",
    " - Volunteering opportunities to reduce digital divide.\n",
    " - Discuss positive solutions to digital divide\n",
    " - How to get involved\n",
    "\n",
    "Topic 4: \n",
    " - Popcorn Hack\n",
    " - Homework Hack"
   ]
  },
  {
   "cell_type": "markdown",
   "metadata": {},
   "source": [
    "# What is Digital Divide?\n",
    "\n",
    " - The digital divide refers to the gap between individuals, communities, or countries with access to modern information and communication technology (ICT) and those without.\n",
    " - It includes disparities in internet access, availability of devices, and digital literacy.\n",
    "Two main dimensions:\n",
    " - Access – Availability of internet and digital devices.\n",
    " - Usage – How people utilize technology effectively.\n"
   ]
  },
  {
   "cell_type": "markdown",
   "metadata": {},
   "source": [
    "# Factors Contributing to the Digital Divide\n",
    "\n",
    "### Economic Disparities\n",
    "\n",
    " - Cost of Technology: Many low-income individuals and families cannot afford computers, smartphones, or internet services.\n",
    " - Limited Access to Education & Job Opportunities: Without technology, individuals may struggle to develop digital skills needed for higher-paying jobs.\n",
    " - Schools in wealthier areas have better funding for technology, such as computers, smartboards, and coding programs.\n",
    " - Many low-income individuals lack access to online banking, digital payment platforms, and financial management tools.\n",
    "\n",
    "![Image](https://github.com/user-attachments/assets/52c7693b-11f8-46d6-b6bc-40e4ead3877d)\n",
    "\n",
    "### Educational Disparities\n",
    " - Unequal Access to Technology in Schools: Schools in wealthier areas have better funding for technology, such as computers, smartboards, and coding programs.\n",
    " - Students in well-funded schools receive early exposure to coding, STEM programs, and digital tools, giving them a competitive edge.\n",
    " - Wealthier students could continue learning through virtual tutoring, online courses, and personal computers, widening the gap\n",
    "\n",
    "### Geographic Disparities\n",
    "\n",
    " - Rural-Urban Divide – Urban areas have better digital infrastructure compared to rural and remote locations.\n",
    " - Infrastructure Limitations – Remote areas may lack broadband networks due to high costs.\n",
    " - Educational Barriers – Students in rural areas face challenges in accessing online learning tools.\n",
    "\n",
    "![Image](https://github.com/user-attachments/assets/d1a3dea6-0c9e-4aca-b8b9-8b573978a0dd)\n",
    "\n",
    "### Impacts of the Digital Divide\n",
    " - Affects access to education, jobs, healthcare, and economic opportunities.\n",
    " - Worsens existing social and economic inequalities.\n",
    " - Slows down technological innovation and global economic development.\n",
    "\n",
    "![Image](https://github.com/user-attachments/assets/7e523b45-d609-4ae1-9d8f-91f990b45a72)\n",
    "\n",
    "### Popcorn Hack: Example Problem in MCQ\n",
    "\n",
    "Question: Which of the following actions are likely to be helpful in reducing the digital divide? Select two answers.\n",
    "\n",
    "Options\n",
    "\n",
    " - A) Designing new technologies intended only for advanced users\n",
    " - B) Designing new technologies to be accessible to individuals with different physical abilities\n",
    " - C) Implementing government regulations restricting citizens’ access to Web content\n",
    " - D) Having world governments support the construction of network infrastructure\n",
    "\n",
    "<button onclick=\"document.getElementById('answer').style.display='block'\">Reveal Answer</button>\n",
    "\n",
    "<div id=\"answer\" style=\"display:none; margin-top:10px;\">\n",
    "**Correct Answers:**  \n",
    "- B) Designing new technologies to be accessible to individuals with different physical abilities  \n",
    "- D) Having world governments support the development of network infrastructure\n",
    "</div>"
   ]
  },
  {
   "cell_type": "markdown",
   "metadata": {},
   "source": [
    "### The Digital Divide in San Diego\n",
    " - San Ysidro, about 40% of households lack a wireline broadband subscription (sandiego.gov).\n",
    " - High concentrations of low-income households without broadband are found in City Heights (16%), San Ysidro (17%), National City (18%), and Barrio Logan/Logan Heights (21%) (sandag.org).\n",
    "\n",
    "![Image](https://github.com/user-attachments/assets/355116c5-dd14-4834-8710-98b9ab3ce556)\n",
    "\n",
    "### Efforts to Bridge the Divide\n",
    " - Access 4 All Program\n",
    "   - Provides free internet access at bus stops, parks, and other locations\n",
    "   - Free computer and internet skill-building classes at libraries and other locations\n",
    " - Broadband Master Plan\n",
    "   - Increases accessibility and affordability of internet access.\n",
    "\n",
    "### How to get involved\n",
    " - Ongoing volunteer opportunity [Computer Refurbisher at HandsOn San Diego](https://www.handsonsandiego.org/opportunity/a0C0H00001tH162UAC/computer-refurbisher)\n",
    " - Minimum age 16+\n",
    " - In this volunteer opportunity, volunteers will clean and prepare Lenovo Yoga Laptops, Desktop Computers, peripherals\n",
    " - Bridges the digital divide, as it targets unreserved communities\n",
    "\n",
    "<img src=\"https://i.ibb.co/nsK8zyPX/image.png\" alt=\"img\" width=\"50%\">"
   ]
  },
  {
   "cell_type": "markdown",
   "metadata": {},
   "source": [
    "### Digital Divide trailer (if time permits):\n",
    "<br>\n",
    "[Youtube Trailer](https://youtu.be/TyOQLGRyKt4)"
   ]
  },
  {
   "cell_type": "markdown",
   "metadata": {},
   "source": [
    "## MCQ Review (from 2020)\n",
    "\n",
    "Which of the following actions are likely to be helpful in reducing the digital divide?\n",
    "\n",
    "Select two answers.\n",
    "  A. Designing new technologies intended only for advanced users\n",
    "\n",
    "  **B. Designing new technologies to be accessible to individuals with different physical abilities**\n",
    "\n",
    "  C. Implementing government regulations restricting citizens’ access to Web content\n",
    "\n",
    "  **D. Having world governments support the construction of network infrastructure**"
   ]
  },
  {
   "cell_type": "markdown",
   "metadata": {},
   "source": [
    "# Popcorn Hack\n",
    "\n",
    "How would you attempt to fix the digital divide or prevent it from being as prevalent in our community? What are some things that are already being done? What are some things we can add? Explain.\n",
    "\n",
    "<button onclick=\"document.getElementById('solution').style.display='block'\">Reveal Solution</button>\n",
    "\n",
    "<div id=\"solution\" style=\"display:none; margin-top:10px;\">\n",
    "Example solutions to the Popcorn Hack\n",
    "\n",
    " - Free coding bootcamps (e.g., freeCodeCamp)\n",
    " - School programs introducing coding at an early age\n",
    " - Provide affordable or subsidized internet & devices for low-income families\n",
    " - Create peer mentorship programs connecting experienced coders with beginners\n",
    " - Expand local coding workshops in schools and community centers\n",
    "</div>\n",
    "\n",
    "\n",
    "### Homework Hack\n",
    "\n",
    "[Link to download](https://github.com/adik1025/aibe_frontend/blob/main/_notebooks/Digital_Divide_Homework_%5BTEMPLATE%5D.ipynb) - **Copy this into your personal repo**\n",
    "\n",
    "[Link to solution (private link)](https://colab.research.google.com/drive/1HsKOEn2aBE-KJvvmnI2H42GtCH7RiwHN?usp=sharing)\n",
    "\n",
    "\n",
    "\n",
    "# Submission Form \n",
    "\n",
    "[Submission Form](https://docs.google.com/forms/d/e/1FAIpQLSfoeD9YkYSNtQzHxfSILKQU_RIfXgftufUGT86oz5rmcPnnlg/viewform)\n"
   ]
  },
  {
   "cell_type": "markdown",
   "metadata": {},
   "source": []
  }
 ],
 "metadata": {
  "language_info": {
   "name": "python"
  }
 },
 "nbformat": 4,
 "nbformat_minor": 2
}
